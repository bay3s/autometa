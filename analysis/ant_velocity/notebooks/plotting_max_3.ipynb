{
 "cells": [
  {
   "cell_type": "code",
   "execution_count": 1,
   "id": "8d77ae56",
   "metadata": {},
   "outputs": [],
   "source": [
    "import os\n",
    "import pandas as pd\n",
    "import seaborn as sns\n",
    "\n",
    "import numpy as np\n",
    "\n",
    "from matplotlib import pyplot as plt\n",
    "import matplotlib as mpl\n",
    "\n",
    "import scipy\n",
    "import scipy.stats as stats"
   ]
  },
  {
   "cell_type": "code",
   "execution_count": 5,
   "id": "17e32596",
   "metadata": {},
   "outputs": [],
   "source": [
    "# constants\n",
    "MAX_VELOCITY = 3.0\n",
    "LABEL_COLOR = \"black\"\n",
    "TICK_COLOR = \"black\"\n",
    "FONT_SIZE = 14\n",
    "\n",
    "# general\n",
    "mpl.rcParams[\"text.color\"] = LABEL_COLOR\n",
    "mpl.rcParams[\"font.family\"] = \"monospace\"\n",
    "mpl.rcParams[\"font.size\"] = FONT_SIZE\n",
    "mpl.rcParams[\"font.style\"] = \"italic\"\n",
    "mpl.rcParams[\"font.weight\"] = \"light\"\n",
    "\n",
    "# label\n",
    "mpl.rcParams[\"axes.labelcolor\"] = LABEL_COLOR\n",
    "mpl.rcParams[\"axes.labelsize\"] = FONT_SIZE\n",
    "mpl.rcParams[\"axes.labelweight\"] = \"light\"\n",
    "\n",
    "# ticks\n",
    "mpl.rcParams[\"xtick.color\"] = TICK_COLOR\n",
    "mpl.rcParams[\"ytick.color\"] = TICK_COLOR\n",
    "mpl.rcParams[\"xtick.labelsize\"] = FONT_SIZE\n",
    "mpl.rcParams[\"ytick.labelsize\"] = FONT_SIZE"
   ]
  },
  {
   "cell_type": "code",
   "execution_count": 6,
   "id": "0694a809",
   "metadata": {},
   "outputs": [],
   "source": [
    "def heatmap(evaluation_results: pd.DataFrame, target_velocities: np.ndarray, delta: float = 0.25):\n",
    "    evaluation_results_list = evaluation_results.to_dict(\"records\")\n",
    "    heatmap_values = list()\n",
    "\n",
    "    for i in range(len(target_velocities) - 1):\n",
    "        heatmap_values.append({\n",
    "            \"target_velocity\": target_velocities[i],\n",
    "            \"stub_y\": 1.0,\n",
    "            \"r\": 0.0\n",
    "        })\n",
    "\n",
    "    for i in range(len(heatmap_values)):\n",
    "        velocity_min = heatmap_values[i][\"target_velocity\"]\n",
    "        velocity_max = velocity_min + delta\n",
    "\n",
    "        rewards = list()\n",
    "        for j in range(len(evaluation_results_list)):\n",
    "            target_velocity = evaluation_results_list[j][\"target_velocity\"]\n",
    "            r_eval = evaluation_results_list[j][\"r\"]\n",
    "\n",
    "            if (velocity_min <= target_velocity < velocity_max):\n",
    "                rewards.append(r_eval)\n",
    "                pass\n",
    "\n",
    "        heatmap_values[i][\"r\"] = np.mean(rewards)\n",
    "    \n",
    "    heatmap_values_df = pd.DataFrame.from_dict(heatmap_values)\n",
    "    heatmap_values_df[\"target_velocity\"] = heatmap_values_df[\"target_velocity\"] \n",
    "\n",
    "    heatmap = heatmap_values_df.pivot(index=\"stub_y\", columns=[\"target_velocity\"], values=\"r\")\n",
    "    heatmap.sort_index(ascending=False, inplace=True)\n",
    "\n",
    "    return heatmap"
   ]
  },
  {
   "cell_type": "code",
   "execution_count": 7,
   "id": "ab888929",
   "metadata": {},
   "outputs": [],
   "source": [
    "def merge_csvs_to_df(csv_paths: list) -> pd.DataFrame:\n",
    "    merged_data = list()\n",
    "\n",
    "    for csv in csv_paths: \n",
    "        temp = pd.read_csv(csv).to_dict(\"records\")\n",
    "        merged_data.extend(temp)\n",
    "        pass\n",
    "\n",
    "    return pd.DataFrame.from_records(merged_data)"
   ]
  },
  {
   "cell_type": "code",
   "execution_count": 8,
   "id": "bbbff3f5",
   "metadata": {},
   "outputs": [],
   "source": [
    "# constants\n",
    "random_seeds = [2878, 5069, 5073, 5250, 4420]\n",
    "target_velocities = np.linspace(0.0, MAX_VELOCITY, num=21)\n",
    "delta = target_velocities[1] - target_velocities[0]"
   ]
  },
  {
   "cell_type": "code",
   "execution_count": 9,
   "id": "846481de",
   "metadata": {},
   "outputs": [],
   "source": [
    "rl_squared_csvs = list()\n",
    "auto_dr_csvs = list()\n",
    "\n",
    "for seed in random_seeds:\n",
    "    rl_squared_csvs.append(f\"../data/rl_squared/max-{int(MAX_VELOCITY)}/seed-{seed}.csv\")\n",
    "    auto_dr_csvs.append(f\"../data/auto_dr/max-{int(MAX_VELOCITY)}/seed-{seed}.csv\")\n",
    "    pass"
   ]
  },
  {
   "cell_type": "code",
   "execution_count": 10,
   "id": "0afd95e7",
   "metadata": {},
   "outputs": [],
   "source": [
    "rl_squared_results = merge_csvs_to_df(rl_squared_csvs)\n",
    "\n",
    "# merge\n",
    "rl_squared_data = list()\n",
    "for csv in rl_squared_csvs:\n",
    "    temp = pd.read_csv(csv).to_dict(\"records\")\n",
    "    rl_squared_data.extend(temp)"
   ]
  },
  {
   "cell_type": "code",
   "execution_count": 11,
   "id": "9d398942",
   "metadata": {},
   "outputs": [],
   "source": [
    "auto_dr_results = merge_csvs_to_df(auto_dr_csvs)\n",
    "\n",
    "# merge\n",
    "auto_dr_data = list()\n",
    "for csv in auto_dr_csvs:\n",
    "    temp = pd.read_csv(csv).to_dict(\"records\")\n",
    "    auto_dr_data.extend(temp)"
   ]
  },
  {
   "cell_type": "code",
   "execution_count": 12,
   "id": "ba1fc83a",
   "metadata": {},
   "outputs": [],
   "source": [
    "rl_squared_results = pd.DataFrame.from_records(rl_squared_data)\n",
    "rl_squared_results[\"target_velocity\"] = rl_squared_results[\"target_velocity\"].str.removesuffix(\"]\")\n",
    "rl_squared_results[\"target_velocity\"] = rl_squared_results[\"target_velocity\"].str.removeprefix(\"[\")\n",
    "rl_squared_results[\"target_velocity\"] = rl_squared_results[\"target_velocity\"].astype(float)\n",
    "\n",
    "auto_dr_results = pd.DataFrame.from_records(auto_dr_data)\n",
    "auto_dr_results[\"target_velocity\"] = auto_dr_results[\"target_velocity\"].str.removesuffix(\"]\")\n",
    "auto_dr_results[\"target_velocity\"] = auto_dr_results[\"target_velocity\"].str.removeprefix(\"[\")\n",
    "auto_dr_results[\"target_velocity\"] = auto_dr_results[\"target_velocity\"].astype(float)"
   ]
  },
  {
   "cell_type": "code",
   "execution_count": 13,
   "id": "0d7d28d3",
   "metadata": {},
   "outputs": [],
   "source": [
    "def significance_heatmap(\n",
    "    rl2_results: pd.DataFrame, \n",
    "    rl2_adr_results: pd.DataFrame, \n",
    "    target_velocities: np.ndarray, \n",
    "    delta: float = 0.25\n",
    "):\n",
    "    heatmap_values = list()\n",
    "\n",
    "    for i in range(len(target_velocities) - 1):\n",
    "        heatmap_values.append({\n",
    "            \"target_velocity\": round(target_velocities[i], 2),\n",
    "            \"pdf_shift\": 0.0,\n",
    "            \"stub_y\": 1.0\n",
    "        })\n",
    "\n",
    "    # p-values\n",
    "    rl2_results_list = rl2_results.to_dict(\"records\")\n",
    "    rl2_adr_results_list = rl2_adr_results.to_dict(\"records\")\n",
    "\n",
    "    for i in range(len(heatmap_values)):\n",
    "        target_velocity_min = heatmap_values[i][\"target_velocity\"]\n",
    "        target_velocity_max = target_velocity_min + delta\n",
    "\n",
    "        # RL2\n",
    "        rewards_rl2 = list()\n",
    "        for j in range(len(rl2_results_list)):\n",
    "            x_eval = rl2_results_list[j][\"target_velocity\"]\n",
    "            r_eval = rl2_results_list[j][\"r\"]\n",
    "\n",
    "            if (target_velocity_min <= x_eval < target_velocity_max):\n",
    "                rewards_rl2.append(r_eval)\n",
    "                pass\n",
    "\n",
    "        # RL2-ADR\n",
    "        rewards_rl2_adr = list()\n",
    "        for j in range(len(rl2_adr_results_list)):\n",
    "            x_eval = rl2_adr_results_list[j][\"target_velocity\"]\n",
    "            r_eval = rl2_adr_results_list[j][\"r\"]\n",
    "\n",
    "            if (target_velocity_min <= x_eval < target_velocity_max):\n",
    "                rewards_rl2_adr.append(r_eval)\n",
    "                pass\n",
    "\n",
    "        # tests the null hypothesis that the population median of both groups is the same.\n",
    "        p_value = stats.kruskal(rewards_rl2, rewards_rl2_adr).pvalue\n",
    "        if p_value < 0.05:\n",
    "            # if this is positive -> rl2-adr is better\n",
    "            # if this is negative -> rl2 is better\n",
    "            diff_normalized = (np.median(rewards_rl2_adr) - np.median(rewards_rl2)) / abs(np.median(rewards_rl2_adr))\n",
    "        else:\n",
    "            # stub, distributions are the same.\n",
    "            diff_normalized = 0.0\n",
    "\n",
    "        heatmap_values[i][\"pdf_shift\"] = diff_normalized\n",
    "        continue\n",
    "\n",
    "    heatmap_values_df = pd.DataFrame.from_dict(heatmap_values)\n",
    "    heatmap_values_df[\"target_velocity\"] = heatmap_values_df[\"target_velocity\"]\n",
    "\n",
    "    heatmap = heatmap_values_df.pivot(index=\"stub_y\", columns=[\"target_velocity\"], values=\"pdf_shift\")\n",
    "    heatmap.sort_index(ascending=False, inplace=True)\n",
    "\n",
    "    return heatmap, heatmap_values_df"
   ]
  },
  {
   "cell_type": "code",
   "execution_count": 14,
   "id": "bbf05f4d",
   "metadata": {},
   "outputs": [],
   "source": [
    "pdf_shift_heatmap, heatmap_values_df = significance_heatmap(\n",
    "    rl_squared_results, \n",
    "    auto_dr_results,\n",
    "    target_velocities,  \n",
    "    delta\n",
    ")"
   ]
  },
  {
   "cell_type": "code",
   "execution_count": 15,
   "id": "51de23d0",
   "metadata": {},
   "outputs": [
    {
     "data": {
      "image/png": "[encoded data removed]",
      "text/plain": [
       "<Figure size 360x60 with 2 Axes>"
      ]
     },
     "metadata": {
      "needs_background": "light"
     },
     "output_type": "display_data"
    }
   ],
   "source": [
    "plt.figure(figsize = (6, 1), dpi=60)\n",
    "\n",
    "new_columns = list()\n",
    "for col in pdf_shift_heatmap.columns:\n",
    "    new_columns.append(str(round(float(col), 2)))\n",
    "\n",
    "pdf_shift_heatmap.columns = new_columns\n",
    "\n",
    "ax = sns.heatmap(\n",
    "    pdf_shift_heatmap,\n",
    "    cmap=sns.color_palette(\"RdBu\", as_cmap=True),\n",
    "    vmin=-1.0,\n",
    "    vmax=1.0\n",
    ")\n",
    "\n",
    "ax.set(xlabel=\"Target Velocity\", ylabel=\"\")\n",
    "ax.get_yaxis().set_ticks([])\n",
    "plt.xticks(rotation=90)\n",
    "plt.show()"
   ]
  },
  {
   "cell_type": "code",
   "execution_count": 16,
   "id": "e1f2a9bc",
   "metadata": {},
   "outputs": [],
   "source": [
    "rewards_data = pd.DataFrame()\n",
    "rewards_data[\"RL2\"] = rl_squared_results[\"r\"]\n",
    "rewards_data[\"RL2-ADR\"] = auto_dr_results[\"r\"]"
   ]
  },
  {
   "cell_type": "code",
   "execution_count": 17,
   "id": "bf95c44c",
   "metadata": {},
   "outputs": [
    {
     "data": {
      "image/png": "[encoded data removed]",
      "text/plain": [
       "<Figure size 360x300 with 1 Axes>"
      ]
     },
     "metadata": {
      "needs_background": "light"
     },
     "output_type": "display_data"
    }
   ],
   "source": [
    "# boxplot\n",
    "vals, names, xs = [],[],[]\n",
    "\n",
    "for i, col in enumerate(['RL2', 'RL2-ADR']):\n",
    "    vals.append(rewards_data[col].values)\n",
    "    names.append(col)\n",
    "    # adds jitter to the data points - can be adjusted\n",
    "    xs.append(np.random.normal(i + 1, 0.05, rewards_data[col].values.shape[0]))\n",
    "    continue\n",
    "\n",
    "fig = plt.figure(figsize = (6, 5), dpi=60)\n",
    "ax  = fig.add_subplot(111)\n",
    "\n",
    "box_plot = ax.boxplot(\n",
    "    vals, \n",
    "    labels=names, \n",
    "    whiskerprops={'linewidth': 2},    \n",
    "    capprops={'linewidth': 2},\n",
    "    boxprops={'color':'#002e63', 'linewidth': 2},\n",
    "    flierprops={'marker': 'o', 'linewidth': 2, 'markersize': 1, 'markerfacecolor': 'none', 'markeredgecolor':'#002e63'},\n",
    "    medianprops={'linewidth': 2, 'color':'black'}\n",
    ")\n",
    "\n",
    "palette = ['#fe6b5f', '#5990bd']\n",
    "\n",
    "for x, val, c in zip(xs, vals, palette):\n",
    "    plt.scatter(x, val, alpha=0.5, color=c)\n",
    "    continue\n",
    "\n",
    "\n",
    "# label\n",
    "ax.set_ylabel('Rewards per Trial')\n",
    "ax.xaxis.label.set_color(LABEL_COLOR)\n",
    "ax.yaxis.label.set_color(LABEL_COLOR)\n",
    "plt.xticks(rotation=90)\n",
    "sns.despine()\n",
    "plt.show()\n",
    "\n",
    "# format\n",
    "plt.show()"
   ]
  },
  {
   "cell_type": "code",
   "execution_count": 20,
   "id": "1490e9ac",
   "metadata": {},
   "outputs": [
    {
     "data": {
      "text/plain": [
       "0.0"
      ]
     },
     "execution_count": 20,
     "metadata": {},
     "output_type": "execute_result"
    }
   ],
   "source": [
    "stats.kruskal(rewards_data[\"RL2\"], rewards_data[\"RL2-ADR\"]).pvalue"
   ]
  },
  {
   "cell_type": "code",
   "execution_count": 21,
   "id": "ae9a3084",
   "metadata": {},
   "outputs": [
    {
     "data": {
      "text/plain": [
       "(286.2528875167685, 261.04956318294205)"
      ]
     },
     "execution_count": 21,
     "metadata": {},
     "output_type": "execute_result"
    }
   ],
   "source": [
    "np.median(rewards_data[\"RL2\"]), np.median(rewards_data[\"RL2-ADR\"])"
   ]
  },
  {
   "cell_type": "code",
   "execution_count": null,
   "id": "ec38b1d2",
   "metadata": {},
   "outputs": [],
   "source": []
  }
 ],
 "metadata": {
  "kernelspec": {
   "display_name": "rl",
   "language": "python",
   "name": "rl"
  },
  "language_info": {
   "codemirror_mode": {
    "name": "ipython",
    "version": 3
   },
   "file_extension": ".py",
   "mimetype": "text/x-python",
   "name": "python",
   "nbconvert_exporter": "python",
   "pygments_lexer": "ipython3",
   "version": "3.9.16"
  }
 },
 "nbformat": 4,
 "nbformat_minor": 5
}
